{
 "cells": [
  {
   "cell_type": "markdown",
   "metadata": {},
   "source": [
    "#Example Assessment\n",
    "\n",
    "After installing PyGauss you should be able to open this IPython Notebook from;\n",
    "https://github.com/chrisjsewell/PyGauss/blob/master/Example_Assessment.ipynb, and run the following..."
   ]
  },
  {
   "cell_type": "code",
   "execution_count": null,
   "metadata": {
    "collapsed": false
   },
   "outputs": [],
   "source": [
    "from IPython.display import display, Image\n",
    "%matplotlib inline\n",
    "import pygauss as pg\n",
    "print 'pygauss version: {}'.format(pg.__version__)"
   ]
  },
  {
   "cell_type": "markdown",
   "metadata": {},
   "source": [
    "The test folder has a number of example Gaussian outputs to play around with."
   ]
  },
  {
   "cell_type": "code",
   "execution_count": null,
   "metadata": {
    "collapsed": false
   },
   "outputs": [],
   "source": [
    "folder = pg.get_test_folder()\n",
    "len(folder.list_files())"
   ]
  },
  {
   "cell_type": "markdown",
   "metadata": {},
   "source": [
    "**Note:** the *folder* object will act identical whether using a local path or one on a server over ssh (using [paramiko](http://www.paramiko.org/)):\n",
    "\n",
    "    folder = pg.Folder('/path/to/folder', \n",
    "                    ssh_server='login.server.com',\n",
    "                    ssh_username='username')"
   ]
  },
  {
   "cell_type": "markdown",
   "metadata": {},
   "source": [
    "##Single Molecule Analysis"
   ]
  },
  {
   "cell_type": "markdown",
   "metadata": {},
   "source": [
    "A *molecule* can be created containg data about the inital geometry, optimisation process and analysis of the final configuration."
   ]
  },
  {
   "cell_type": "code",
   "execution_count": null,
   "metadata": {
    "collapsed": true
   },
   "outputs": [],
   "source": [
    "mol = pg.molecule.Molecule(folder_obj=folder,\n",
    "                init_fname='CJS1_emim-cl_B_init.com', \n",
    "                opt_fname=['CJS1_emim-cl_B_6-311+g-d-p-_gd3bj_opt-modredundant_difrz.log',\n",
    "                           'CJS1_emim-cl_B_6-311+g-d-p-_gd3bj_opt-modredundant_difrz_err.log',\n",
    "                           'CJS1_emim-cl_B_6-311+g-d-p-_gd3bj_opt-modredundant_unfrz.log'],\n",
    "                freq_fname='CJS1_emim-cl_B_6-311+g-d-p-_gd3bj_freq_unfrz.log',\n",
    "                nbo_fname='CJS1_emim-cl_B_6-311+g-d-p-_gd3bj_pop-nbo-full-_unfrz.log', \n",
    "                atom_groups={'emim':range(20), 'cl':[20]},\n",
    "                alignto=[3,2,1])"
   ]
  },
  {
   "cell_type": "markdown",
   "metadata": {},
   "source": [
    "###Geometric Analysis\n",
    "\n",
    "Molecules can be viewed statically or interactively."
   ]
  },
  {
   "cell_type": "code",
   "execution_count": null,
   "metadata": {
    "collapsed": false
   },
   "outputs": [],
   "source": [
    "#mol.show_initial(active=True)\n",
    "vdw = mol.show_initial(represent='vdw', rotations=[[0,0,90], [-90, 90, 0]])\n",
    "ball_stick = mol.show_optimisation(represent='ball_stick', rotations=[[0,0,90], [-90, 90, 0]])\n",
    "display(vdw, ball_stick)"
   ]
  },
  {
   "cell_type": "code",
   "execution_count": null,
   "metadata": {
    "collapsed": false
   },
   "outputs": [],
   "source": [
    "print 'Cl optimised polar coords from aromatic ring : ({0}, {1},{2})'.format(\n",
    "    *[round(i, 2) for i in mol.calc_polar_coords_from_plane(20,3,2,1)])\n",
    "ax = mol.plot_opt_trajectory(20, [3,2,1])\n",
    "ax.set_title('Cl optimisation path')\n",
    "ax.get_figure().set_size_inches(4, 3)"
   ]
  },
  {
   "cell_type": "markdown",
   "metadata": {},
   "source": [
    "###Energetics and Frequency Analysis"
   ]
  },
  {
   "cell_type": "code",
   "execution_count": null,
   "metadata": {
    "collapsed": false
   },
   "outputs": [],
   "source": [
    "print('Optimised? {0}, Conformer? {1}, Energy = {2} a.u.'.format(\n",
    "    mol.is_optimised(), mol.is_conformer(), \n",
    "    round(mol.get_opt_energy(units='hartree'),3)))\n",
    "ax = mol.plot_opt_energy(units='hartree')\n",
    "ax.get_figure().set_size_inches(3, 2)\n",
    "ax = mol.plot_freq_analysis()\n",
    "ax.get_figure().set_size_inches(4, 2)"
   ]
  },
  {
   "cell_type": "markdown",
   "metadata": {},
   "source": [
    "Potential Energy Scan analysis of geometric conformers..."
   ]
  },
  {
   "cell_type": "code",
   "execution_count": null,
   "metadata": {
    "collapsed": false
   },
   "outputs": [],
   "source": [
    "mol2 = pg.molecule.Molecule(folder_obj=folder, alignto=[3,2,1],\n",
    "            pes_fname=['CJS_emim_6311_plus_d3_scan.log', \n",
    "                       'CJS_emim_6311_plus_d3_scan_bck.log'])   \n",
    "ax = mol2.plot_pes_scans([1,4,9,10], rotation=[0,0,90], img_pos='local_maxs', zoom=0.5)\n",
    "ax.set_title('Ethyl chain rotational conformer analysis')\n",
    "ax.get_figure().set_size_inches(7, 3)"
   ]
  },
  {
   "cell_type": "markdown",
   "metadata": {},
   "source": [
    "###Partial Charge Analysis\n",
    "\n",
    "using Natural Bond Orbital (NBO) analysis"
   ]
  },
  {
   "cell_type": "code",
   "execution_count": null,
   "metadata": {
    "collapsed": false
   },
   "outputs": [],
   "source": [
    "print '+ve charge centre polar coords from aromatic ring: ({0} {1},{2})'.format(\n",
    "    *[round(i, 2) for i in mol.calc_nbo_charge_center(3, 2, 1)])\n",
    "display(mol.show_nbo_charges(represent='ball_stick', axis_length=0.4, \n",
    "                              rotations=[[0,0,90], [-90, 90, 0]]))"
   ]
  },
  {
   "cell_type": "markdown",
   "metadata": {},
   "source": [
    "###Density of States Analysis"
   ]
  },
  {
   "cell_type": "code",
   "execution_count": null,
   "metadata": {
    "collapsed": false
   },
   "outputs": [],
   "source": [
    "print 'Number of Orbitals: {}'.format(mol.get_orbital_count())\n",
    "homo, lumo = mol.get_orbital_homo_lumo()\n",
    "homoe, lumoe = mol.get_orbital_energies([homo, lumo])\n",
    "print 'HOMO at {} eV'.format(homoe)\n",
    "print 'LUMO at {} eV'.format(lumoe)"
   ]
  },
  {
   "cell_type": "code",
   "execution_count": null,
   "metadata": {
    "collapsed": false
   },
   "outputs": [],
   "source": [
    "ax = mol.plot_dos(per_energy=1,\n",
    "                atom_groups=['cl', 'emim'], \n",
    "                group_colors=['blue', 'orange'], \n",
    "                group_labels=['Cl', 'EMIM'], group_fill=False, \n",
    "                lbound=-20, ubound=10, legend_size=12)"
   ]
  },
  {
   "cell_type": "markdown",
   "metadata": {},
   "source": [
    "###Bonding Analysis\n",
    "\n",
    "Using Second Order Perturbation Theory."
   ]
  },
  {
   "cell_type": "code",
   "execution_count": null,
   "metadata": {
    "collapsed": false
   },
   "outputs": [],
   "source": [
    "print 'H inter-bond energy = {} kJmol-1'.format(\n",
    "        mol.calc_hbond_energy(eunits='kJmol-1', atom_groups=['emim', 'cl']))\n",
    "print 'Other inter-bond energy = {} kJmol-1'.format(\n",
    "    mol.calc_sopt_energy(eunits='kJmol-1', no_hbonds=True, atom_groups=['emim', 'cl']))\n",
    "display(mol.show_sopt_bonds(min_energy=1, eunits='kJmol-1',\n",
    "                            atom_groups=['emim', 'cl'],\n",
    "                            no_hbonds=True,\n",
    "                            rotations=[[0, 0, 90]]))\n",
    "display(mol.show_hbond_analysis(cutoff_energy=5.,alpha=0.6, \n",
    "                                atom_groups=['emim', 'cl'],\n",
    "                                rotations=[[0, 0, 90], [90, 0, 0]]))"
   ]
  },
  {
   "cell_type": "markdown",
   "metadata": {},
   "source": [
    "##Multiple Computations Analysis"
   ]
  },
  {
   "cell_type": "markdown",
   "metadata": {},
   "source": [
    "Multiple computations, for instance of different starting conformations, can be grouped into an *Analysis* class and anlaysed collectively."
   ]
  },
  {
   "cell_type": "code",
   "execution_count": null,
   "metadata": {
    "collapsed": false
   },
   "outputs": [],
   "source": [
    "analysis = pg.Analysis(folder_obj=folder)\n",
    "errors = analysis.add_runs(headers=['Cation', 'Anion', 'Initial'], \n",
    "                               values=[['emim'], ['cl'],\n",
    "                                       ['B', 'BE', 'BM', 'F', 'FE']],\n",
    "            init_pattern='*{0}-{1}_{2}_init.com',\n",
    "            opt_pattern='*{0}-{1}_{2}_6-311+g-d-p-_gd3bj_opt*unfrz.log',\n",
    "            freq_pattern='*{0}-{1}_{2}_6-311+g-d-p-_gd3bj_freq*.log',\n",
    "            nbo_pattern='*{0}-{1}_{2}_6-311+g-d-p-_gd3bj_pop-nbo-full-*.log',\n",
    "            alignto=[3,2,1], atom_groups={'emim':range(1,20), 'cl':[20]}, \n",
    "            ipython_print=True)"
   ]
  },
  {
   "cell_type": "markdown",
   "metadata": {},
   "source": [
    "###Molecular Comparison"
   ]
  },
  {
   "cell_type": "code",
   "execution_count": null,
   "metadata": {
    "collapsed": false,
    "scrolled": true
   },
   "outputs": [],
   "source": [
    "fig, caption = analysis.plot_mol_images(mtype='optimised', max_cols=3,\n",
    "                        info_columns=['Cation', 'Anion', 'Initial'],\n",
    "                        rotations=[[0,0,90]])\n",
    "print caption"
   ]
  },
  {
   "cell_type": "markdown",
   "metadata": {},
   "source": [
    "###Data Comparison"
   ]
  },
  {
   "cell_type": "code",
   "execution_count": null,
   "metadata": {
    "collapsed": false
   },
   "outputs": [],
   "source": [
    "fig, caption = analysis.plot_mol_graphs(gtype='dos', max_cols=3,\n",
    "                        info_columns=['Cation', 'Anion', 'Initial'],\n",
    "                        atom_groups=['cl'], group_colors=['blue'], \n",
    "                        group_labels=['Cl'], group_fill=True, \n",
    "                        lbound=-20, ubound=10, legend_size=8)\n",
    "print caption"
   ]
  },
  {
   "cell_type": "markdown",
   "metadata": {},
   "source": [
    "The methods mentioned for indivdiual molecules can be applied to all or a subset of these computations."
   ]
  },
  {
   "cell_type": "code",
   "execution_count": null,
   "metadata": {
    "collapsed": false
   },
   "outputs": [],
   "source": [
    "analysis.add_mol_property_subset('Opt', 'is_optimised', rows=[2,3])\n",
    "analysis.add_mol_property('Energy (au)', 'get_opt_energy', units='hartree')\n",
    "analysis.add_mol_property('Cation chain, $\\\\psi$', 'calc_dihedral_angle', [1, 4, 9, 10])\n",
    "analysis.add_mol_property('Cation Charge', 'calc_nbo_charge', 'emim')\n",
    "analysis.add_mol_property('Anion Charge', 'calc_nbo_charge', 'cl')\n",
    "analysis.add_mol_property(['Anion-Cation, $r$', 'Anion-Cation, $\\\\theta$', 'Anion-Cation, $\\\\phi$'], \n",
    "                               'calc_polar_coords_from_plane', 3, 2, 1, 20)\n",
    "analysis.add_mol_property('Anion-Cation h-bond', 'calc_hbond_energy', \n",
    "                          eunits='kJmol-1', atom_groups=['emim', 'cl'])\n",
    "analysis.get_table(row_index=['Anion', 'Cation', 'Initial'], \n",
    "                   column_index=['Cation', 'Anion', 'Anion-Cation'])"
   ]
  },
  {
   "cell_type": "markdown",
   "metadata": {},
   "source": [
    "There is also an option (requiring [pdflatex](http://www.tug.org/applications/pdftex/) and [ghostscript](http://www.ghostscript.com/download/gsdnld.html)+[imagemagik](http://www.imagemagick.org/script/binary-releases.php)) to output the tables as a latex formatted image."
   ]
  },
  {
   "cell_type": "code",
   "execution_count": null,
   "metadata": {
    "collapsed": false,
    "scrolled": true
   },
   "outputs": [],
   "source": [
    "analysis.get_table(row_index=['Anion', 'Cation', 'Initial'],\n",
    "                   column_index=['Cation', 'Anion', 'Anion-Cation'],\n",
    "                   as_image=True, font_size=12)"
   ]
  },
  {
   "cell_type": "markdown",
   "metadata": {},
   "source": [
    "###Multi-Variate Analysis"
   ]
  },
  {
   "cell_type": "markdown",
   "metadata": {},
   "source": [
    "RadViz is a way of visualizing multi-variate data."
   ]
  },
  {
   "cell_type": "code",
   "execution_count": null,
   "metadata": {
    "collapsed": false
   },
   "outputs": [],
   "source": [
    "ax = analysis.plot_radviz_comparison('Anion', columns=range(4, 10))"
   ]
  },
  {
   "cell_type": "markdown",
   "metadata": {},
   "source": [
    "The KMeans algorithm clusters data by trying to separate samples into n groups of equal variance."
   ]
  },
  {
   "cell_type": "code",
   "execution_count": null,
   "metadata": {
    "collapsed": false
   },
   "outputs": [],
   "source": [
    "pg.utils.imgplot_kmean_groups(\n",
    "    analysis, 'Anion', 'cl', 4, range(4, 10), \n",
    "    output=['Initial'], mtype='optimised', \n",
    "    rotations=[[0, 0, 90], [-90, 90, 0]],\n",
    "    axis_length=0.3)"
   ]
  },
  {
   "cell_type": "markdown",
   "metadata": {},
   "source": [
    "##Documentation (MS Word)"
   ]
  },
  {
   "cell_type": "markdown",
   "metadata": {},
   "source": [
    "After analysing the computations, it would be reasonable to want to document some of our findings. This can be achieved by outputting individual figure or table images via the folder object."
   ]
  },
  {
   "cell_type": "code",
   "execution_count": null,
   "metadata": {
    "collapsed": false
   },
   "outputs": [],
   "source": [
    "file_path = folder.save_ipyimg(vdw, 'image_of_molecule')\n",
    "Image(file_path)"
   ]
  },
  {
   "cell_type": "markdown",
   "metadata": {},
   "source": [
    "But you may also want to produce a more full record of your analysis, and this is where [python-docx](https://python-docx.readthedocs.org) steps in. Building on this package the pygauss MSDocument class can produce a full document of your analysis. "
   ]
  },
  {
   "cell_type": "code",
   "execution_count": null,
   "metadata": {
    "collapsed": false
   },
   "outputs": [],
   "source": [
    "import matplotlib.pyplot as plt\n",
    "d = pg.MSDocument()\n",
    "d.add_heading('A Pygauss Example Assessment', level=1)\n",
    "\n",
    "d.add_paragraph('We have looked at the following aspects;')\n",
    "d.add_list(['geometric conformers', 'electronic structure'])\n",
    "\n",
    "d.add_heading('Geometric Conformers', level=2)\n",
    "fig, caption = analysis.plot_mol_images(max_cols=2, \n",
    "                rotations=[[90,0,0], [0,0,90]], \n",
    "                info_columns=['Anion', 'Cation', 'Initial'])\n",
    "d.add_mpl(fig, dpi=96, height=9)\n",
    "plt.close()\n",
    "d.add_markdown('*' + caption + '*')\n",
    "d.add_paragraph()\n",
    "df = analysis.get_table(columns=['Anion Charge', 'Cation Charge', \n",
    "                                 'Energy (au)'],\n",
    "                   row_index=['Anion', 'Cation', 'Initial'])\n",
    "d.add_dataframe(df, incl_indx=True, style='Medium Shading 1 Accent 1')\n",
    "d.add_markdown('**Table:** Analysis of Conformer Charge')\n",
    "\n",
    "d.add_heading('Molecular Orbital Analysis', level=2)\n",
    "fig, caption = analysis.plot_mol_graphs(gtype='dos', max_cols=3,\n",
    "                        info_columns=['Cation', 'Anion', 'Initial'],\n",
    "                        atom_groups=['cl'], group_colors=['blue'], \n",
    "                        group_labels=['Cl'], group_fill=True, \n",
    "                        lbound=-20, ubound=10, legend_size=8)\n",
    "d.add_mpl(fig, dpi=96, height=9)\n",
    "plt.close()\n",
    "d.add_markdown('*' + caption + '*')\n",
    "\n",
    "d.save('exmpl_assess.docx')"
   ]
  },
  {
   "cell_type": "markdown",
   "metadata": {},
   "source": [
    "Which gives us the following:\n",
    "\n",
    "![DocX Image 1](example_docx1.png)\n",
    "![DocX Image 2](example_docx2.png)"
   ]
  },
  {
   "cell_type": "markdown",
   "metadata": {},
   "source": [
    "MORE TO COME!!"
   ]
  }
 ],
 "metadata": {
  "kernelspec": {
   "display_name": "Python 2",
   "language": "python",
   "name": "python2"
  },
  "language_info": {
   "codemirror_mode": {
    "name": "ipython",
    "version": 2
   },
   "file_extension": ".py",
   "mimetype": "text/x-python",
   "name": "python",
   "nbconvert_exporter": "python",
   "pygments_lexer": "ipython2",
   "version": "2.7.10"
  }
 },
 "nbformat": 4,
 "nbformat_minor": 0
}
