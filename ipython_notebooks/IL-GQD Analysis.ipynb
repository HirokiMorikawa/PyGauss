{
 "cells": [
  {
   "cell_type": "markdown",
   "metadata": {},
   "source": [
    "#Analysis of Gaussian IL-PAH investigation"
   ]
  },
  {
   "cell_type": "markdown",
   "metadata": {},
   "source": [
    "This document is intended to outline and discuss the outcome of the pygauss API that I have buit on top of the chemlab package to analyse output from Gaussian. In particular, for the analysis of Ionic-Liquids and Graphenic structures."
   ]
  },
  {
   "cell_type": "code",
   "execution_count": null,
   "metadata": {
    "collapsed": false
   },
   "outputs": [],
   "source": [
    "import pygauss.molecule as pg\n",
    "%matplotlib inline\n",
    "from IPython.display import display\n",
    "import os; home = os.path.expanduser(\"~\")\n",
    "file_path = os.path.join(home, 'Dropbox', 'Mres_Project', \n",
    "                         'gaussian', 'for_analysis')"
   ]
  },
  {
   "cell_type": "markdown",
   "metadata": {},
   "source": [
    "##IL Cation Analysis"
   ]
  },
  {
   "cell_type": "markdown",
   "metadata": {},
   "source": [
    "The basic function of the API is to take in data files ouput from Gaussian for a particular system and analyse their outcome in terms of:\n",
    "- Geometry alignment, and\n",
    "- Electronic distribution"
   ]
  },
  {
   "cell_type": "code",
   "execution_count": null,
   "metadata": {
    "collapsed": false
   },
   "outputs": [],
   "source": [
    "cation = pg.Molecule(file_path, \n",
    "                    init_fname='CJS1_emim_-_init.com', \n",
    "                    opt_fname='CJS1_emim_-_6-311+g-d-p-_gd3bj_opt_.log',\n",
    "                    freq_fname='CJS1_emim_-_6-311+g-d-p-_gd3bj_freq_.log',\n",
    "                    nbo_fname='CJS1_emim_-_6-311+g-d-p-_gd3bj_pop-nbo-full-_.log')"
   ]
  },
  {
   "cell_type": "markdown",
   "metadata": {},
   "source": [
    "Initial analysis can be made of the computed optimisation, confirming that it was successful, that it is a saddle point within the potential energy surface and its energy (basis set dependant)."
   ]
  },
  {
   "cell_type": "code",
   "execution_count": null,
   "metadata": {
    "collapsed": false
   },
   "outputs": [],
   "source": [
    "print 'Basis Set: {0} ({1} functions)'.format(cation.get_basis_descript(), cation.get_basis_funcs())\n",
    "print 'Optimised:', cation.is_optimised()\n",
    "print 'Conformer:', cation.is_conformer()\n",
    "print 'Energy:', cation.get_optimisation_E(units='kJmol-1')\n",
    "cation.plot_IRfreqs()\n",
    "#cation.plot_optimisation_E(units='kJmol-1')"
   ]
  },
  {
   "cell_type": "markdown",
   "metadata": {},
   "source": [
    "An initial qualitative analysis of the geometry can be made."
   ]
  },
  {
   "cell_type": "code",
   "execution_count": null,
   "metadata": {
    "collapsed": false
   },
   "outputs": [],
   "source": [
    "display(cation.show_initial(ball_stick=True, zoom=2,\n",
    "                    rotations=[[0, 0, 90], [90, 90, 0], [225, 45, 45]], axis_length=0.5))\n",
    "display(cation.show_optimisation(ball_stick=True, zoom=2,\n",
    "                    rotations=[[0, 0, 90], [90, 90, 0], [225, 45, 45]], axis_length=0.5))"
   ]
  },
  {
   "cell_type": "markdown",
   "metadata": {},
   "source": [
    "As can be seen above, the geometry is generally aligned arbitrarily to the standard axes. Therefore, an algorithm has been included to align the geometry to a plane defined by three atoms. This allows geometry to be more easily compared and will also come in helpful later for calculating relative orientations. "
   ]
  },
  {
   "cell_type": "code",
   "execution_count": null,
   "metadata": {
    "collapsed": false
   },
   "outputs": [],
   "source": [
    "cation.add_alignment_atoms(3, 2, 1)\n",
    "display(cation.show_highlight_atoms([[3], [2], [1]], optimised=False, ball_stick=True, zoom=2,\n",
    "                            rotations=[[0, 0, 90], [90, 90, 0], [5, 55, 45]], axis_length=0.5))\n",
    "display(cation.show_highlight_atoms([[3], [2], [1]], optimised=True, ball_stick=True, zoom=2,\n",
    "                            rotations=[[0, 0, 90], [90, 90, 0], [5, 55, 45]], axis_length=0.5))"
   ]
  },
  {
   "cell_type": "markdown",
   "metadata": {},
   "source": [
    "For $C_nC_1imidazolium$ based cations, a key variable in its geometric orientation is the $C_n$ chains angle relative to the $imidazolium$ ring."
   ]
  },
  {
   "cell_type": "code",
   "execution_count": null,
   "metadata": {
    "collapsed": false
   },
   "outputs": [],
   "source": [
    "cation.show_highlight_atoms([[1, 4], [9, 10]], optimised=False, \n",
    "                            ball_stick=True, zoom=4, rotations=[[0, 0, 90]])"
   ]
  },
  {
   "cell_type": "markdown",
   "metadata": {},
   "source": [
    "This can be computed as below:"
   ]
  },
  {
   "cell_type": "code",
   "execution_count": null,
   "metadata": {
    "collapsed": false
   },
   "outputs": [],
   "source": [
    "print 'Initial chain angle:', cation.calc_dihedral_angle([1,4,9,10], optimisation=False)\n",
    "print 'Optimised chain angle:', cation.calc_dihedral_angle([1,4,9,10], optimisation=True)"
   ]
  },
  {
   "cell_type": "markdown",
   "metadata": {},
   "source": [
    "Another measure which can be visaulised is the relative atomic charge, as calculated from Natural Bond Orbital (NBO) analysis. "
   ]
  },
  {
   "cell_type": "code",
   "execution_count": null,
   "metadata": {
    "collapsed": false
   },
   "outputs": [],
   "source": [
    "cation.show_nbo_charges(ball_stick=True, zoom=4, rotations=[[0, 0, 90], [90, 180, 0], [45, 45, 90]], \n",
    "                        minval=-1, maxval=1, axis_length=0.3)"
   ]
  },
  {
   "cell_type": "markdown",
   "metadata": {},
   "source": [
    "By taking either the positive or negatively charged atoms, we can weight their coordinates by charge and then calculate a mean *charge center* to give a simplistic metric of charge distribution. This is given in polar coordinates, relative to the ring plane."
   ]
  },
  {
   "cell_type": "code",
   "execution_count": null,
   "metadata": {
    "collapsed": false
   },
   "outputs": [],
   "source": [
    "print 'Positive charge center; r = {0} nm, theta = {1}, phi = {2}'.format(\n",
    "            *cation.calc_nbo_charge_center(3, 2, 1, atoms=range(1, 20)))"
   ]
  },
  {
   "cell_type": "markdown",
   "metadata": {},
   "source": [
    "##IL Cation-Anion Pair Analysis"
   ]
  },
  {
   "cell_type": "markdown",
   "metadata": {},
   "source": [
    "Three anions will be assessed, with each $C_nC_1imidazolium$, simplistically representing three different geometries;\n",
    "- a point ($Cl$),\n",
    "- a ball ($BF_4$),\n",
    "- and a ball and chain ($EtSO_4$)."
   ]
  },
  {
   "cell_type": "code",
   "execution_count": null,
   "metadata": {
    "collapsed": false
   },
   "outputs": [],
   "source": [
    "display(pg.Molecule(file_path, 'CJS1_emim-cl_B_init.com').show_initial(ball_stick=True))\n",
    "display(pg.Molecule(file_path, 'CJS1_emim-bf_B_init.com').show_initial(ball_stick=True))\n",
    "display(pg.Molecule(file_path, 'CJS1_emim-etso_B_init.com').show_initial(ball_stick=True))"
   ]
  },
  {
   "cell_type": "markdown",
   "metadata": {},
   "source": [
    "The minimum distance of the ions can be calculated as an initial metric."
   ]
  },
  {
   "cell_type": "code",
   "execution_count": null,
   "metadata": {
    "collapsed": true
   },
   "outputs": [],
   "source": [
    "il_pair = pg.Molecule(file_path, \n",
    "            init_fname='CJS1_emim-cl_T_init.com', \n",
    "            opt_fname='CJS1_emim-cl_T_6-311+g-d-p-_gd3bj_opt-modredundant_unfrz.log',\n",
    "            freq_fname='CJS1_emim-cl_T_6-311+g-d-p-_gd3bj_freq_unfrz.log',\n",
    "            nbo_fname='CJS1_emim-cl_T_6-311+g-d-p-_gd3bj_pop-nbo-full-_unfrz.log',\n",
    "            alignto=[3, 2, 1])"
   ]
  },
  {
   "cell_type": "code",
   "execution_count": null,
   "metadata": {
    "collapsed": false
   },
   "outputs": [],
   "source": [
    "print 'Minimum cation-anion distance: ', il_pair.calc_min_dist(\n",
    "                                            range(1, 20), [20]), 'nm'"
   ]
  },
  {
   "cell_type": "markdown",
   "metadata": {},
   "source": [
    "The position of the anion about the cation can also be calculated, in polar coordintes relative to the cation ring. "
   ]
  },
  {
   "cell_type": "code",
   "execution_count": null,
   "metadata": {
    "collapsed": false
   },
   "outputs": [],
   "source": [
    "il_pair.show_highlight_atoms([[3, 2, 1], [20]], ball_stick=True, \n",
    "                             rotations=[[180, 0, 90], [270, 0, 0]], zoom=2 , axis_length=0.5)"
   ]
  },
  {
   "cell_type": "code",
   "execution_count": null,
   "metadata": {
    "collapsed": false
   },
   "outputs": [],
   "source": [
    "print 'Anion position; r = {0} nm, theta = {1}, phi = {2}'.format(\n",
    "            *il_pair.calc_polar_coords_from_plane(3, 2, 1, 20))"
   ]
  },
  {
   "cell_type": "markdown",
   "metadata": {},
   "source": [
    "We can also use **Second Order Perturbation Theory** analysis to identify potential regions of charge transfer\n",
    "(LP = Lone Pair, BD* = Anti-Bonding)."
   ]
  },
  {
   "cell_type": "code",
   "execution_count": null,
   "metadata": {
    "collapsed": false
   },
   "outputs": [],
   "source": [
    "print il_pair.calc_SOPT_bonds(min_energy=20.)\n",
    "il_pair.show_SOPT_bonds(min_energy=20., rotations=[[180, 0, 90], [270, 90, 0]], width=700)"
   ]
  },
  {
   "cell_type": "markdown",
   "metadata": {},
   "source": [
    "###Conformer Analysis"
   ]
  },
  {
   "cell_type": "code",
   "execution_count": null,
   "metadata": {
    "collapsed": false
   },
   "outputs": [],
   "source": [
    "import pygauss.analysis as ag\n",
    "import matplotlib.pyplot as plt\n",
    "%matplotlib inline\n",
    "from IPython.display import display\n",
    "import os; home = os.path.expanduser(\"~\")\n",
    "file_path = os.path.join(home, 'Dropbox', 'Mres_Project', \n",
    "                         'gaussian', 'for_analysis')"
   ]
  },
  {
   "cell_type": "code",
   "execution_count": null,
   "metadata": {
    "collapsed": false
   },
   "outputs": [],
   "source": [
    "analysis = ag.Analysis(file_path)\n",
    "analysis.add_run({'Cation':'emim'},\n",
    "                init_fname='CJS1_emim_-_init.com', \n",
    "                opt_fname='CJS1_emim_-_6-311+g-d-p-_gd3bj_opt_.log',\n",
    "                freq_fname='CJS1_emim_-_6-311+g-d-p-_gd3bj_freq_.log',\n",
    "                nbo_fname='CJS1_emim_-_6-311+g-d-p-_gd3bj_pop-nbo-full-_.log')\n",
    "analysis.add_run({'Cation':'omim'},\n",
    "                init_fname='CJS1_omim_-_init.com', \n",
    "                opt_fname='CJS1_omim_-_6-311+g-d-p-_gd3bj_opt-modredundant_unfrz.log',\n",
    "                freq_fname='CJS1_omim_-_6-311+g-d-p-_gd3bj_freq_unfrz.log',\n",
    "                nbo_fname='CJS1_omim_-_6-311+g-d-p-_gd3bj_pop-nbo-full-_unfrz.log')\n",
    "for mol in analysis.yield_mol_images(): display(mol)"
   ]
  },
  {
   "cell_type": "code",
   "execution_count": null,
   "metadata": {
    "collapsed": false
   },
   "outputs": [],
   "source": [
    "df, errors = analysis.add_runs(headers=['Cation', 'Anion', 'Initial', 'Stage'], \n",
    "            values=[['omim', 'emim'], ['cl', 'bf', 'etso'],\n",
    "            ['B', 'BE', 'BM', 'F', 'FE', 'FM', 'T'], ['final']],\n",
    "            init_pattern='CJS1_{0}-{1}_{2}_init.com',\n",
    "            opt_pattern='CJS1_{0}-{1}_{2}_6-311+g-d-p-_gd3bj_opt-modredundant_unfrz.log',\n",
    "            freq_pattern='CJS1_{0}-{1}_{2}_6-311+g-d-p-_gd3bj_freq_unfrz.log',\n",
    "            nbo_pattern='CJS1_{0}-{1}_{2}_6-311+g-d-p-_gd3bj_pop-nbo-full-_unfrz.log',\n",
    "            ipython_print=True)\n",
    "print 'Read Errors:', errors"
   ]
  },
  {
   "cell_type": "code",
   "execution_count": null,
   "metadata": {
    "collapsed": false
   },
   "outputs": [],
   "source": [
    "mols = analysis.yield_mol_images(mtype='initial', \n",
    "                                      filters={'Cation':'emim', 'Anion':'cl'}, \n",
    "                                      align_to=[3,2,1], \n",
    "                                      rotations=[[0, 0, 90], [-90, 90, 0]],\n",
    "                                      axis_length=0.5)\n",
    "for mol in mols: display(mol)"
   ]
  },
  {
   "cell_type": "code",
   "execution_count": null,
   "metadata": {
    "collapsed": false
   },
   "outputs": [],
   "source": [
    "analysis.add_basic_properties()\n",
    "analysis.remove_non_conformers()"
   ]
  },
  {
   "cell_type": "code",
   "execution_count": null,
   "metadata": {
    "collapsed": false
   },
   "outputs": [],
   "source": [
    "analysis.add_mol_property('Energy (au)', 'get_optimisation_E', units='hartree')\n",
    "analysis.get_table(head=5)"
   ]
  },
  {
   "cell_type": "code",
   "execution_count": null,
   "metadata": {
    "collapsed": false
   },
   "outputs": [],
   "source": [
    "def add_subset_properties(filters, diatoms, cation, anion, anion_pivot):\n",
    "    analysis.add_mol_property_subset('Cation Chain, $\\\\psi$', 'calc_dihedral_angle', \n",
    "                                     filters=filters, args=[diatoms])\n",
    "    analysis.add_mol_property_subset('Cation Charge', 'calc_nbo_charge', \n",
    "                                     filters=filters, args=[cation])\n",
    "    analysis.add_mol_property_subset(['Cation Charge, $r$', \n",
    "                                      'Cation Charge, $\\\\theta$', \n",
    "                                      'Cation Charge, $\\\\phi$'], \n",
    "                                   'calc_nbo_charge_center', filters=filters,\n",
    "                                     args=[3, 2, 1], kwargs={'atoms':cation})\n",
    "    analysis.add_mol_property_subset('Anion Charge', 'calc_nbo_charge', \n",
    "                                     filters=filters, args=[anion])\n",
    "    analysis.add_mol_property_subset(['Anion-Cation $r$', 'Anion-Cation $\\\\theta$', 'Anion-Cation $\\\\phi$'], \n",
    "                                   'calc_polar_coords_from_plane', filters=filters,\n",
    "                                     args=[3, 2, 1, anion_pivot])\n",
    "    analysis.add_mol_property_subset('Anion-Cation $d_{min}$', 'calc_min_dist', \n",
    "                                     filters=filters, args=[cation, anion])    \n",
    "    \n",
    "add_subset_properties({'Cation':'emim'}, [1, 4, 9, 10], range(1, 20), range(20, 32), 20)\n",
    "add_subset_properties({'Cation':'emim','Anion':'bf'}, [1, 4, 9, 10], range(1, 20), range(20, 25), 20)\n",
    "add_subset_properties({'Cation':'emim','Anion':'cl'}, [1, 4, 9, 10], range(1, 20), [20], 20)\n",
    "add_subset_properties({'Cation':'omim','Anion':'cl'}, [1, 4, 9, 17], range(1, 16)+range(17, 39), [16], 16)\n",
    "add_subset_properties({'Cation':'omim','Anion':'bf'}, [1, 4, 9, 21], range(1, 16)+range(22, 43), range(16, 22), 16)\n",
    "add_subset_properties({'Cation':'omim','Anion':'etso'}, [1, 4, 9, 28], range(1, 16)+range(28, 50), range(16, 28), 16)"
   ]
  },
  {
   "cell_type": "code",
   "execution_count": null,
   "metadata": {
    "collapsed": false,
    "scrolled": false
   },
   "outputs": [],
   "source": [
    "analysis.get_table(columns=[0,1,2]+range(8,19), filters={'Anion':['cl']},\n",
    "                   row_index=['Cation', 'Anion', 'Initial'], column_index=['Cation', 'Anion', 'Anion-Cation'])"
   ]
  },
  {
   "cell_type": "markdown",
   "metadata": {},
   "source": [
    "RadViz is a way of visualizing multi-variate data. It is based on a simple spring tension minimization algorithm. Basically you set up a bunch of points in a plane. In our case they are equally spaced on a unit circle. Each point represents a single attribute. You then pretend that each sample in the data set is attached to each of these points by a spring, the stiffness of which is proportional to the numerical value of that attribute (they are normalized to unit interval). The point in the plane, where our sample settles to (where the forces acting on our sample are at an equilibrium) is where a dot representing our sample will be drawn. Depending on which class that sample belongs it will be colored differently."
   ]
  },
  {
   "cell_type": "code",
   "execution_count": null,
   "metadata": {
    "collapsed": false
   },
   "outputs": [],
   "source": [
    "analysis.plot_radviz_comparison('Anion', columns=range(8, 19), \n",
    "                                filters={'Cation':'emim', 'Anion':['cl', 'bf', 'etso']})\n",
    "plt.gcf().set_size_inches(7,7)"
   ]
  },
  {
   "cell_type": "code",
   "execution_count": null,
   "metadata": {
    "collapsed": false
   },
   "outputs": [],
   "source": [
    "analysis.plot_radviz_comparison('Anion', columns=range(8, 19), \n",
    "                                filters={'Cation':'omim', 'Anion':['cl', 'bf', 'etso']})\n",
    "plt.gcf().set_size_inches(7,7)"
   ]
  },
  {
   "cell_type": "markdown",
   "metadata": {},
   "source": [
    "The KMeans algorithm clusters data by trying to separate samples in n groups of equal variance, minimizing a criterion known as the inertia or within-cluster sum-of-squares. This algorithm requires the number of clusters to be specified. It has been used across a large range of application areas in many different fields."
   ]
  },
  {
   "cell_type": "code",
   "execution_count": null,
   "metadata": {
    "collapsed": true
   },
   "outputs": [],
   "source": [
    "kwargs = {'mtype':'optimised', 'align_to':[3,2,1], \n",
    "            'rotations':[[0, 0, 90], [-90, 90, 0]],\n",
    "            'axis_length':0.5}\n",
    "def show_groups(df):\n",
    "    for cat, gf in df.groupby('Category'):\n",
    "        print 'Category {0}:'.format(cat)\n",
    "        mols = analysis.yield_mol_images(rows=gf.index.tolist(), **kwargs)\n",
    "        for mol, row in zip(mols, gf.index.tolist()): \n",
    "            print '(row {0})'.format(row)\n",
    "            display(mol)"
   ]
  },
  {
   "cell_type": "code",
   "execution_count": null,
   "metadata": {
    "collapsed": false,
    "scrolled": false
   },
   "outputs": [],
   "source": [
    "show_groups(analysis.calc_kmean_groups('Anion', 'cl', 5, columns=range(8, 17), \n",
    "                                filters={'Cation':'emim'}))"
   ]
  },
  {
   "cell_type": "code",
   "execution_count": null,
   "metadata": {
    "collapsed": false,
    "scrolled": false
   },
   "outputs": [],
   "source": [
    "show_groups(analysis.calc_kmean_groups('Anion', 'bf', 2, columns=range(8, 17), \n",
    "                                filters={'Cation':'emim'}))                              "
   ]
  },
  {
   "cell_type": "code",
   "execution_count": null,
   "metadata": {
    "collapsed": false,
    "scrolled": false
   },
   "outputs": [],
   "source": [
    "show_groups(analysis.calc_kmean_groups('Anion', 'etso', 2, columns=range(8, 17), \n",
    "                                filters={'Cation':'emim'}))"
   ]
  },
  {
   "cell_type": "code",
   "execution_count": null,
   "metadata": {
    "collapsed": false
   },
   "outputs": [],
   "source": [
    "show_groups(analysis.calc_kmean_groups('Anion', 'etso', 3, columns=range(8, 17), \n",
    "                                filters={'Cation':'omim'}))"
   ]
  },
  {
   "cell_type": "markdown",
   "metadata": {},
   "source": [
    "##Coronene Ion Conformers"
   ]
  },
  {
   "cell_type": "code",
   "execution_count": null,
   "metadata": {
    "collapsed": false
   },
   "outputs": [],
   "source": [
    "import pygauss.analysis as ag\n",
    "import matplotlib.pyplot as plt\n",
    "%matplotlib inline\n",
    "from IPython.display import display\n",
    "import os; home = os.path.expanduser(\"~\")\n",
    "file_path = os.path.join(home, 'Dropbox', 'Mres_Project', \n",
    "                         'gaussian', 'for_analysis')"
   ]
  },
  {
   "cell_type": "code",
   "execution_count": null,
   "metadata": {
    "collapsed": false
   },
   "outputs": [],
   "source": [
    "analysis2 = ag.Analysis(file_path)\n",
    "df, errors = analysis2.add_runs(headers=['Surface', 'Ion', 'Initial'], \n",
    "            values=[['coro'], ['cl', 'bf'],\n",
    "            ['P', 'T-M', 'T-S']],\n",
    "            init_pattern='CJS1_{0}-{1}_{2}_init.com',\n",
    "            ipython_print=True)\n",
    "print 'Read Errors:', errors\n",
    "df, errors2 = analysis2.add_runs(headers=['Surface', 'Ion', 'Initial'], \n",
    "            values=[['coro'], ['etso'],\n",
    "            ['P-O', 'P-P', 'T-M-O', 'T-M-P', 'T-S-O', 'T-S-PI', 'T-S-PO']],\n",
    "            init_pattern='CJS1_{0}-{1}_{2}_init.com',\n",
    "            ipython_print=True)\n",
    "print 'Read Errors:', errors, errors2\n",
    "df, errors3 = analysis2.add_runs(headers=['Surface', 'Ion', 'Initial'], \n",
    "            values=[['coro'], ['emim'],\n",
    "            ['S-C37C38-P-O', 'S-C39-P-O', 'S-O-E', 'S-O-N40N44',\n",
    "            'T-C4-C37C38-P', 'T-C4-C39-P', 'T-C9-P-O', 'T-C9-P-P',\n",
    "            'T-M-C37C38-P', 'T-M-C39-P', 'T-M-P-O', 'T-M-P-P']],\n",
    "            init_pattern='CJS1_{0}-{1}_{2}_init.com',\n",
    "            ipython_print=True)\n",
    "print 'Read Errors:', errors, errors2, errors3"
   ]
  },
  {
   "cell_type": "code",
   "execution_count": null,
   "metadata": {
    "collapsed": false
   },
   "outputs": [],
   "source": [
    "run=0\n",
    "for mol in analysis2.yield_mol_images(mtype='initial', align_to=[4,7,9],\n",
    "                                rotations=[[0,0,0], [90,0,0]], axis_length=0.5):\n",
    "    pos = analysis2.get_table().Initial.iloc[run]; run+=1\n",
    "    key={'P':'Parallel', 'T':'Top', 'M':'Middle', 'S':'Side', 'O':'Orthogonal',\n",
    "        'PO':'Parallel (out)', 'PI':'Parallel (in)'}\n",
    "    print \", \".join( [ key.get(abbrev,abbrev) for abbrev in pos.split('-')] )\n",
    "    display(mol)"
   ]
  }
 ],
 "metadata": {
  "kernelspec": {
   "display_name": "Python 2",
   "language": "python",
   "name": "python2"
  },
  "language_info": {
   "codemirror_mode": {
    "name": "ipython",
    "version": 2
   },
   "file_extension": ".py",
   "mimetype": "text/x-python",
   "name": "python",
   "nbconvert_exporter": "python",
   "pygments_lexer": "ipython2",
   "version": "2.7.8"
  }
 },
 "nbformat": 4,
 "nbformat_minor": 0
}
