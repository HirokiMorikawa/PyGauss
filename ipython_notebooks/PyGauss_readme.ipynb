{
 "cells": [
  {
   "cell_type": "markdown",
   "metadata": {},
   "source": [
    "#Python Gaussian Analysis Tool (pygauss)"
   ]
  },
  {
   "cell_type": "markdown",
   "metadata": {},
   "source": [
    "Pygauss is designed to be an API for parsing one or more input/output files from a [Gaussian](http://www.gaussian.com/) quantum chemical computation and provide functionality to assess  **molecular geometry** and **electronic distribution** both visually and quantitatively.\n",
    "\n",
    "It is built on top of the [cclib](http://cclib.github.io/)/[chemlab](http://chemlab.readthedocs.org/en/latest/index.html)/[chemview](http://chemview.readthedocs.org/en/latest/) suite of packages and python scientific stack and is primarily designed to be used interactively in the [IPython Notebook](http://ipython.org/notebook.html) (within which this readme has been written). As shown below, a molecular optimisation can be assesed individually (much like in [gaussview](http://www.gaussian.com/g_prod/gv5b.htm)), but also as part of a group. The advantages of this package are then:\n",
    "\n",
    "- Faster, more efficient analysis\n",
    "- Reproducible analysis\n",
    "- Trend analysis"
   ]
  },
  {
   "cell_type": "markdown",
   "metadata": {},
   "source": [
    "Detail instillation...\n",
    "\n",
    "    pip install pygauss\n",
    "    \n",
    "    conda install -c http://conda.binstar.org/gabrielelanaro chemlab\n",
    "\n",
    "You should then be able to start an ipython notebook..."
   ]
  },
  {
   "cell_type": "code",
   "execution_count": null,
   "metadata": {
    "collapsed": false
   },
   "outputs": [],
   "source": [
    "from IPython.display import display\n",
    "%matplotlib inline\n",
    "import pygauss as pg\n",
    "folder = pg.get_test_folder()"
   ]
  },
  {
   "cell_type": "markdown",
   "metadata": {},
   "source": [
    "##Single Molecule Analysis"
   ]
  },
  {
   "cell_type": "markdown",
   "metadata": {},
   "source": [
    "A *molecule* can be created containg data about the inital geometry, optimisation process and analysis of the final configuration."
   ]
  },
  {
   "cell_type": "code",
   "execution_count": null,
   "metadata": {
    "collapsed": false
   },
   "outputs": [],
   "source": [
    "mol = pg.molecule.Molecule(folder,\n",
    "                init_fname='CJS1_emim-cl_B_init.com', \n",
    "                opt_fname=['CJS1_emim-cl_B_6-311+g-d-p-_gd3bj_opt-modredundant_difrz.log',\n",
    "                           'CJS1_emim-cl_B_6-311+g-d-p-_gd3bj_opt-modredundant_difrz_err.log',\n",
    "                           'CJS1_emim-cl_B_6-311+g-d-p-_gd3bj_opt-modredundant_unfrz.log'],\n",
    "                freq_fname='CJS1_emim-cl_B_6-311+g-d-p-_gd3bj_freq_unfrz.log',\n",
    "                nbo_fname='CJS1_emim-cl_B_6-311+g-d-p-_gd3bj_pop-nbo-full-_unfrz.log', \n",
    "                alignto=[3,2,1])\n",
    "\n",
    "#mol.show_initial(active=True)\n",
    "display(mol.show_initial(zoom=0.5, rotations=[[0,0,90], [-90, 90, 0]]))\n",
    "display(mol.show_optimisation(ball_stick=True, rotations=[[0,0,90], [-90, 90, 0]]))"
   ]
  },
  {
   "cell_type": "markdown",
   "metadata": {},
   "source": [
    "Basic analysis of optimisation..."
   ]
  },
  {
   "cell_type": "code",
   "execution_count": null,
   "metadata": {
    "collapsed": false
   },
   "outputs": [],
   "source": [
    "print('Optimised? {0}, Conformer? {1}, Energy = {2} a.u.'.format(\n",
    "    mol.is_optimised(), mol.is_conformer(), round(mol.get_optimisation_E(units='hartree'),3)))\n",
    "ax = mol.plot_optimisation_E(units='hartree')\n",
    "ax.get_figure().set_size_inches(3, 2)"
   ]
  },
  {
   "cell_type": "markdown",
   "metadata": {},
   "source": [
    "Geometric analysis..."
   ]
  },
  {
   "cell_type": "code",
   "execution_count": null,
   "metadata": {
    "collapsed": false
   },
   "outputs": [],
   "source": [
    "print 'Cl optimised polar coords from aromatic ring : ({0}, {1},{2})'.format(\n",
    "    *[round(i, 2) for i in mol.calc_polar_coords_from_plane(20,3,2,1)])\n",
    "ax = mol.plot_opt_trajectory(20, [3,2,1])\n",
    "ax.set_title('Cl optimisation path')\n",
    "ax.get_figure().set_size_inches(4, 3)"
   ]
  },
  {
   "cell_type": "markdown",
   "metadata": {},
   "source": [
    "Potential Energy Scan analysis of geometric conformers..."
   ]
  },
  {
   "cell_type": "code",
   "execution_count": null,
   "metadata": {
    "collapsed": false
   },
   "outputs": [],
   "source": [
    "mol2 = pg.molecule.Molecule(folder, alignto=[3,2,1],\n",
    "            pes_fname=['CJS_emim_6311_plus_d3_scan.log', \n",
    "                       'CJS_emim_6311_plus_d3_scan_bck.log'])   \n",
    "ax = mol2.plot_pes_scans([1,4,9,10], rotation=[0,0,90], img_pos='local_maxs', zoom=0.5)\n",
    "ax.set_title('Ethyl chain rotational conformer analysis')\n",
    "ax.get_figure().set_size_inches(7, 3)"
   ]
  },
  {
   "cell_type": "markdown",
   "metadata": {},
   "source": [
    "Natural Bond Orbital and Second Order Perturbation Theory analysis..."
   ]
  },
  {
   "cell_type": "code",
   "execution_count": null,
   "metadata": {
    "collapsed": false
   },
   "outputs": [],
   "source": [
    "print '+ve charge centre polar coords from aromatic ring: ({0} {1},{2})'.format(\n",
    "    *[round(i, 2) for i in mol.calc_nbo_charge_center(3, 2, 1)])\n",
    "display(mol.show_nbo_charges(ball_stick=True, axis_length=0.4, \n",
    "                              rotations=[[0,0,90], [-90, 90, 0]]))\n",
    "display(mol.show_SOPT_bonds(min_energy=15., rotations=[[0, 0, 90]]))"
   ]
  },
  {
   "cell_type": "markdown",
   "metadata": {},
   "source": [
    "## Multiple Computations Analysis"
   ]
  },
  {
   "cell_type": "markdown",
   "metadata": {},
   "source": [
    "a"
   ]
  },
  {
   "cell_type": "code",
   "execution_count": null,
   "metadata": {
    "collapsed": false
   },
   "outputs": [],
   "source": [
    "analysis = pg.analysis.Analysis(folder)\n",
    "df, errors = analysis.add_runs(headers=['Cation', 'Anion', 'Initial'], \n",
    "                               values=[['emim'], ['cl'],\n",
    "                                       ['B', 'BE', 'BM', 'F', 'FE', 'FM']],\n",
    "            init_pattern='CJS1_{0}-{1}_{2}_init.com',\n",
    "            opt_pattern='CJS1_{0}-{1}_{2}_6-311+g-d-p-_gd3bj_opt-modredundant_unfrz.log',\n",
    "            freq_pattern='CJS1_{0}-{1}_{2}_6-311+g-d-p-_gd3bj_freq_unfrz.log',\n",
    "            nbo_pattern='CJS1_{0}-{1}_{2}_6-311+g-d-p-_gd3bj_pop-nbo-full-_unfrz.log')\n",
    "print 'Read Errors:', errors"
   ]
  },
  {
   "cell_type": "code",
   "execution_count": null,
   "metadata": {
    "collapsed": false
   },
   "outputs": [],
   "source": [
    "analysis.add_mol_property('Opt', 'is_optimised')\n",
    "analysis.add_mol_property('Energy (au)', 'get_optimisation_E', units='hartree')\n",
    "analysis.add_mol_property('Cation chain, $\\\\psi$', 'calc_dihedral_angle', [1, 4, 9, 10])\n",
    "analysis.add_mol_property('Cation Charge', 'calc_nbo_charge', range(1, 20))\n",
    "analysis.add_mol_property('Anion Charge', 'calc_nbo_charge', [20])\n",
    "analysis.add_mol_property(['Anion-Cation, $r$', 'Anion-Cation, $\\\\theta$', 'Anion-Cation, $\\\\phi$'], \n",
    "                               'calc_polar_coords_from_plane', 3, 2, 1, 20)\n",
    "df = analysis.get_table(row_index=['Anion', 'Cation', 'Initial'], \n",
    "                   column_index=['Cation', 'Anion', 'Anion-Cation'])\n",
    "df"
   ]
  },
  {
   "cell_type": "markdown",
   "metadata": {},
   "source": [
    "RadViz is a way of visualizing multi-variate data."
   ]
  },
  {
   "cell_type": "code",
   "execution_count": null,
   "metadata": {
    "collapsed": false
   },
   "outputs": [],
   "source": [
    "ax = analysis.plot_radviz_comparison('Anion', columns=range(4, 10))"
   ]
  },
  {
   "cell_type": "markdown",
   "metadata": {},
   "source": [
    "The KMeans algorithm clusters data by trying to separate samples in n groups of equal variance"
   ]
  },
  {
   "cell_type": "code",
   "execution_count": null,
   "metadata": {
    "collapsed": false
   },
   "outputs": [],
   "source": [
    "kwargs = {'mtype':'optimised', 'align_to':[3,2,1], \n",
    "            'rotations':[[0, 0, 90], [-90, 90, 0]],\n",
    "            'axis_length':0.3}\n",
    "def show_groups(df):\n",
    "    for cat, gf in df.groupby('Category'):\n",
    "        print 'Category {0}:'.format(cat)\n",
    "        mols = analysis.yield_mol_images(rows=gf.index.tolist(), **kwargs)\n",
    "        for mol, row in zip(mols, gf.index.tolist()): \n",
    "            print '(row {0})'.format(row)\n",
    "            display(mol)\n",
    "show_groups(analysis.calc_kmean_groups('Anion', 'cl', 4, columns=range(4, 10)))"
   ]
  }
 ],
 "metadata": {
  "kernelspec": {
   "display_name": "Python 2",
   "language": "python",
   "name": "python2"
  },
  "language_info": {
   "codemirror_mode": {
    "name": "ipython",
    "version": 2
   },
   "file_extension": ".py",
   "mimetype": "text/x-python",
   "name": "python",
   "nbconvert_exporter": "python",
   "pygments_lexer": "ipython2",
   "version": "2.7.9"
  }
 },
 "nbformat": 4,
 "nbformat_minor": 0
}
