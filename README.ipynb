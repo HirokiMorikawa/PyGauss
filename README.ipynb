{
 "cells": [
  {
   "cell_type": "markdown",
   "metadata": {},
   "source": [
    "#Python Gaussian Analysis Tool (PyGauss)"
   ]
  },
  {
   "cell_type": "markdown",
   "metadata": {},
   "source": [
    "PyGauss is designed to be an API for parsing one or more input/output files from a [Gaussian](http://www.gaussian.com/) quantum chemical computation and provide functionality to assess  **molecular geometry** and **electronic distribution** both visually and quantitatively.\n",
    "\n",
    "It is built on top of the [cclib](http://cclib.github.io/)/[chemview](http://chemview.readthedocs.org/en/latest/)/[chemlab](http://chemlab.readthedocs.org/en/latest/index.html) suite of packages and python scientific stack and is primarily designed to be used interactively in the [IPython Notebook](http://ipython.org/notebook.html) (within which this readme was created). As shown below, a molecular optimisation can be assesed individually (much like in [gaussview](http://www.gaussian.com/g_prod/gv5b.htm)), but also as part of a group. The advantages of this package are then:\n",
    "\n",
    "- Faster, more efficient analysis\n",
    "- Reproducible analysis\n",
    "- Trend analysis"
   ]
  },
  {
   "cell_type": "markdown",
   "metadata": {},
   "source": [
    "##Instillation"
   ]
  },
  {
   "cell_type": "markdown",
   "metadata": {},
   "source": [
    "- The source code is hosted on GitHub; https://github.com/chrisjsewell/PyGauss\n",
    "- A PyPi distribution is available at; https://pypi.python.org/pypi/pygauss\n",
    "- A Conda distribution is available at; https://conda.binstar.org/cjs14\n",
    "\n",
    "###The Easy Way (OSX)\n",
    "\n",
    "The recommended was to use pygauss is to download the [Anaconda](http://continuum.io/downloads) Scientific Python Distribution (64-bit). Once downloaded a new environment can be created in terminal and pygauss installed:\n",
    "\n",
    "    conda create -n pg_env python=2.7\n",
    "    conda install -c https://conda.binstar.org/cjs14 -n pg_env pygauss\n",
    "\n",
    "###The Middle Road (Linux)\n",
    "\n",
    "There is currently no pygauss conda distributable for Linux, but there is for chemlab. So chemlab can be installed, then install a few dependancies that pip finds difficult / doesn't have, and finally install pygauss using pip (make sure to activate the required environment)   \n",
    "\n",
    "    conda create -n pg_env python=2.7\n",
    "\tconda install -n pg_env -c https://conda.binstar.org/cjs14 chemlab\t\n",
    "    conda install -n pg_env <pil, pandas, matplotlib, scikit-learn> \n",
    "    activate pg_env\n",
    "    pip install pygauss\n",
    "    \n",
    "###The Hard Way (Windows)\n",
    "\n",
    "There is currently no pygauss conda distributable for Windows or for chemlab, which has C-extensions that need to be built using a compiler. Therefore it will need to be cloned from GitHub. the extensions built, dependancies installed and finally installed.\n",
    "\n",
    "    conda create -n pg_env python=2.7\n",
    "\tconda install -n pg_env -c https://conda.binstar.org/cjs14 cclib\n",
    "    conda install -n pg_env -c https://conda.binstar.org/cjs14 chemview\n",
    "    conda install -n pg_env -c https://conda.binstar.org/cjs14 pyopengl\t\t\n",
    "\tgit clone --recursive https://github.com/chemlab/chemlab.git\n",
    "\tcd chemlab\n",
    "\tpython setup.py build_ext --inplace\n",
    "    conda install -n pg_env <pil, pandas, matplotlib, scikit-learn, ...> \n",
    "    activate pg_env\n",
    "    pip install . # or add to PYTHONPATH\n",
    "    pip install pygauss\n",
    "    \n",
    "If you encounter difficulties it may be useful for you to look in [working_conda_environments](https://github.com/chrisjsewell/PyGauss/tree/master/working_conda_environments) at conda environments known to work."
   ]
  },
  {
   "cell_type": "markdown",
   "metadata": {},
   "source": [
    "##Example Assessment\n",
    "\n",
    "You should then be able to open an assessment in IPython Notebook starting with the following:"
   ]
  },
  {
   "cell_type": "code",
   "execution_count": null,
   "metadata": {
    "collapsed": false
   },
   "outputs": [],
   "source": [
    "from IPython.display import display\n",
    "%matplotlib inline\n",
    "import pygauss as pg\n",
    "folder = pg.get_test_folder()\n",
    "pg.__version__"
   ]
  },
  {
   "cell_type": "markdown",
   "metadata": {},
   "source": [
    "###Single Molecule Analysis"
   ]
  },
  {
   "cell_type": "markdown",
   "metadata": {},
   "source": [
    "A *molecule* can be created containg data about the inital geometry, optimisation process and analysis of the final configuration. Molecules can be viewed statically or interactively (not currently supported by Firefox)."
   ]
  },
  {
   "cell_type": "code",
   "execution_count": null,
   "metadata": {
    "collapsed": false
   },
   "outputs": [],
   "source": [
    "mol = pg.molecule.Molecule(folder,\n",
    "                init_fname='CJS1_emim-cl_B_init.com', \n",
    "                opt_fname=['CJS1_emim-cl_B_6-311+g-d-p-_gd3bj_opt-modredundant_difrz.log',\n",
    "                           'CJS1_emim-cl_B_6-311+g-d-p-_gd3bj_opt-modredundant_difrz_err.log',\n",
    "                           'CJS1_emim-cl_B_6-311+g-d-p-_gd3bj_opt-modredundant_unfrz.log'],\n",
    "                freq_fname='CJS1_emim-cl_B_6-311+g-d-p-_gd3bj_freq_unfrz.log',\n",
    "                nbo_fname='CJS1_emim-cl_B_6-311+g-d-p-_gd3bj_pop-nbo-full-_unfrz.log', \n",
    "                alignto=[3,2,1])\n",
    "\n",
    "#mol.show_initial(active=True)\n",
    "display(mol.show_initial(zoom=0.5, rotations=[[0,0,90], [-90, 90, 0]]))\n",
    "display(mol.show_optimisation(ball_stick=True, rotations=[[0,0,90], [-90, 90, 0]]))"
   ]
  },
  {
   "cell_type": "markdown",
   "metadata": {},
   "source": [
    "Basic analysis of optimisation..."
   ]
  },
  {
   "cell_type": "code",
   "execution_count": null,
   "metadata": {
    "collapsed": false
   },
   "outputs": [],
   "source": [
    "print('Optimised? {0}, Conformer? {1}, Energy = {2} a.u.'.format(\n",
    "    mol.is_optimised(), mol.is_conformer(), round(mol.get_optimisation_E(units='hartree'),3)))\n",
    "ax = mol.plot_optimisation_E(units='hartree')\n",
    "ax.get_figure().set_size_inches(3, 2)"
   ]
  },
  {
   "cell_type": "markdown",
   "metadata": {},
   "source": [
    "Geometric analysis..."
   ]
  },
  {
   "cell_type": "code",
   "execution_count": null,
   "metadata": {
    "collapsed": false
   },
   "outputs": [],
   "source": [
    "print 'Cl optimised polar coords from aromatic ring : ({0}, {1},{2})'.format(\n",
    "    *[round(i, 2) for i in mol.calc_polar_coords_from_plane(20,3,2,1)])\n",
    "ax = mol.plot_opt_trajectory(20, [3,2,1])\n",
    "ax.set_title('Cl optimisation path')\n",
    "ax.get_figure().set_size_inches(4, 3)"
   ]
  },
  {
   "cell_type": "markdown",
   "metadata": {},
   "source": [
    "Potential Energy Scan analysis of geometric conformers..."
   ]
  },
  {
   "cell_type": "code",
   "execution_count": null,
   "metadata": {
    "collapsed": false
   },
   "outputs": [],
   "source": [
    "mol2 = pg.molecule.Molecule(folder, alignto=[3,2,1],\n",
    "            pes_fname=['CJS_emim_6311_plus_d3_scan.log', \n",
    "                       'CJS_emim_6311_plus_d3_scan_bck.log'])   \n",
    "ax = mol2.plot_pes_scans([1,4,9,10], rotation=[0,0,90], img_pos='local_maxs', zoom=0.5)\n",
    "ax.set_title('Ethyl chain rotational conformer analysis')\n",
    "ax.get_figure().set_size_inches(7, 3)"
   ]
  },
  {
   "cell_type": "markdown",
   "metadata": {},
   "source": [
    "Natural Bond Orbital and Second Order Perturbation Theory analysis..."
   ]
  },
  {
   "cell_type": "code",
   "execution_count": null,
   "metadata": {
    "collapsed": false
   },
   "outputs": [],
   "source": [
    "print '+ve charge centre polar coords from aromatic ring: ({0} {1},{2})'.format(\n",
    "    *[round(i, 2) for i in mol.calc_nbo_charge_center(3, 2, 1)])\n",
    "display(mol.show_nbo_charges(ball_stick=True, axis_length=0.4, \n",
    "                              rotations=[[0,0,90], [-90, 90, 0]]))\n",
    "display(mol.show_SOPT_bonds(min_energy=15., rotations=[[0, 0, 90]]))"
   ]
  },
  {
   "cell_type": "markdown",
   "metadata": {},
   "source": [
    "###Multiple Computations Analysis"
   ]
  },
  {
   "cell_type": "markdown",
   "metadata": {},
   "source": [
    "Multiple computations, for instance of different starting conformations, can be grouped into an *Analysis* class. "
   ]
  },
  {
   "cell_type": "code",
   "execution_count": null,
   "metadata": {
    "collapsed": false,
    "scrolled": true
   },
   "outputs": [],
   "source": [
    "analysis = pg.Analysis(folder)\n",
    "errors = analysis.add_runs(headers=['Cation', 'Anion', 'Initial'], \n",
    "                               values=[['emim'], ['cl'],\n",
    "                                       ['B', 'BE', 'BM', 'F', 'FE', 'FM']],\n",
    "            init_pattern='*{0}-{1}_{2}_init.com',\n",
    "            opt_pattern='*{0}-{1}_{2}_6-311+g-d-p-_gd3bj_opt*unfrz.log',\n",
    "            freq_pattern='*{0}-{1}_{2}_6-311+g-d-p-_gd3bj_freq*.log',\n",
    "            nbo_pattern='*{0}-{1}_{2}_6-311+g-d-p-_gd3bj_pop-nbo-full-*.log')\n",
    "print 'Read Errors:'\n",
    "errors"
   ]
  },
  {
   "cell_type": "markdown",
   "metadata": {},
   "source": [
    "**New Feature:** you can now access files on a server over ssh (using [paramiko](http://www.paramiko.org/)) in the following manner:\n",
    "\n",
    "    analysis = pg.Analysis( '/path/to/folder', \n",
    "                    ssh_server='login.server.com',\n",
    "                    ssh_username='username')"
   ]
  },
  {
   "cell_type": "markdown",
   "metadata": {},
   "source": [
    "The methods mentioned for indivdiual molecules can then be applied to all or a subset of these computations."
   ]
  },
  {
   "cell_type": "code",
   "execution_count": null,
   "metadata": {
    "collapsed": false
   },
   "outputs": [],
   "source": [
    "analysis.add_mol_property_subset('Opt', 'is_optimised', rows=[2,3])\n",
    "analysis.add_mol_property('Energy (au)', 'get_optimisation_E', units='hartree')\n",
    "analysis.add_mol_property('Cation chain, $\\\\psi$', 'calc_dihedral_angle', [1, 4, 9, 10])\n",
    "analysis.add_mol_property('Cation Charge', 'calc_nbo_charge', range(1, 20))\n",
    "analysis.add_mol_property('Anion Charge', 'calc_nbo_charge', [20])\n",
    "analysis.add_mol_property(['Anion-Cation, $r$', 'Anion-Cation, $\\\\theta$', 'Anion-Cation, $\\\\phi$'], \n",
    "                               'calc_polar_coords_from_plane', 3, 2, 1, 20)\n",
    "analysis.get_table(row_index=['Anion', 'Cation', 'Initial'], \n",
    "                   column_index=['Cation', 'Anion', 'Anion-Cation'])"
   ]
  },
  {
   "cell_type": "markdown",
   "metadata": {},
   "source": [
    "**NEW FEATURE:** there is now an option (requiring [pdflatex](http://www.tug.org/applications/pdftex/) and [ghostscript](http://www.ghostscript.com/download/gsdnld.html)+[imagemagik](http://www.imagemagick.org/script/binary-releases.php)) to output the tables as a latex formatted image."
   ]
  },
  {
   "cell_type": "code",
   "execution_count": null,
   "metadata": {
    "collapsed": false,
    "scrolled": true
   },
   "outputs": [],
   "source": [
    "analysis.get_table(row_index=['Anion', 'Cation', 'Initial'],\n",
    "                   column_index=['Cation', 'Anion', 'Anion-Cation'],\n",
    "                   as_image=True, font_size=12)"
   ]
  },
  {
   "cell_type": "markdown",
   "metadata": {},
   "source": [
    "RadViz is a way of visualizing multi-variate data."
   ]
  },
  {
   "cell_type": "code",
   "execution_count": null,
   "metadata": {
    "collapsed": false
   },
   "outputs": [],
   "source": [
    "ax = analysis.plot_radviz_comparison('Anion', columns=range(4, 10))"
   ]
  },
  {
   "cell_type": "markdown",
   "metadata": {},
   "source": [
    "The KMeans algorithm clusters data by trying to separate samples into n groups of equal variance."
   ]
  },
  {
   "cell_type": "code",
   "execution_count": null,
   "metadata": {
    "collapsed": false
   },
   "outputs": [],
   "source": [
    "kwargs = {'mtype':'optimised', 'align_to':[3,2,1], \n",
    "            'rotations':[[0, 0, 90], [-90, 90, 0]],\n",
    "            'axis_length':0.3}\n",
    "pg.utils.iprint_kmean_groups(analysis, 'Anion', 'cl', 4, \n",
    "                             range(4, 10), output=['Initial'],\n",
    "                             **kwargs)"
   ]
  },
  {
   "cell_type": "markdown",
   "metadata": {},
   "source": [
    "MORE TO COME!!"
   ]
  }
 ],
 "metadata": {
  "kernelspec": {
   "display_name": "Python 2",
   "language": "python",
   "name": "python2"
  },
  "language_info": {
   "codemirror_mode": {
    "name": "ipython",
    "version": 2
   },
   "file_extension": ".py",
   "mimetype": "text/x-python",
   "name": "python",
   "nbconvert_exporter": "python",
   "pygments_lexer": "ipython2",
   "version": "2.7.9"
  }
 },
 "nbformat": 4,
 "nbformat_minor": 0
}
